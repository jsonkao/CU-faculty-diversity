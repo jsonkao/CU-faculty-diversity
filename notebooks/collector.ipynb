{
 "cells": [
  {
   "cell_type": "markdown",
   "metadata": {},
   "source": [
    "# Data Collector\n",
    "\n",
    "This notebook organizes and aggregates data about faculty diversity in gender."
   ]
  },
  {
   "cell_type": "code",
   "execution_count": 34,
   "metadata": {},
   "outputs": [],
   "source": [
    "import os\n",
    "import re\n",
    "import pandas as pd\n",
    "\n",
    "fileProg = re.compile(r'\\w{3}\\-\\w{2}\\.xlsx')"
   ]
  },
  {
   "cell_type": "markdown",
   "metadata": {},
   "source": [
    "This block collects gender data:"
   ]
  },
  {
   "cell_type": "code",
   "execution_count": 35,
   "metadata": {},
   "outputs": [],
   "source": [
    "DATA_PATH = '../data/gender/'\n",
    "\n",
    "def getGenderData(fname):\n",
    "    df = pd.read_excel(DATA_PATH + fname)\n",
    "    [div, status] = fname.rstrip('.xlsx').split('-')\n",
    "    df.columns = [\n",
    "        'Year', \n",
    "        '% Women', \n",
    "        'Women', \n",
    "        'Total', \n",
    "        '% Men',\n",
    "        'Men',\n",
    "        'Total Duplicate'\n",
    "    ]\n",
    "    df.drop(columns=['Total Duplicate'], inplace=True)\n",
    "    df.set_index('Year', inplace=True)\n",
    "    df.name = '{}-{}'.format(div, status)\n",
    "    return df\n",
    "\n",
    "def writeGenderData():\n",
    "    writer = pd.ExcelWriter('../data/gender.xlsx', engine='xlsxwriter')\n",
    "    fnames = [f for f in sorted(os.listdir(DATA_PATH)) if fileProg.match(f)]\n",
    "    for fname in fnames:\n",
    "        df = getGenderData(fname)\n",
    "        df.to_excel(writer, sheet_name=df.name, startrow=0, startcol=0)\n",
    "    writer.save()\n",
    "    \n",
    "# writeGenderData()"
   ]
  },
  {
   "cell_type": "markdown",
   "metadata": {},
   "source": [
    "This blocks collects race and ethnicity data:"
   ]
  },
  {
   "cell_type": "code",
   "execution_count": 48,
   "metadata": {
    "scrolled": false
   },
   "outputs": [],
   "source": [
    "DATA_PATH = '../data/race-ethnicity/'\n",
    "\n",
    "CATEGORIES = [ 'Black/African American', 'Hispanic/Latino', 'Two or More', 'Asian American' ]\n",
    "\n",
    "# All div-status pairs have 4 categories, in the order of the CATEGORIES\n",
    "# array, except the following two, which don't have 'Two or More'.\n",
    "noTwoOrMore = ['HUM-TE', 'SOC-EL']\n",
    "\n",
    "foundIncompleteColumn = False\n",
    "def getRaceEthnicityData(fname):\n",
    "    df = pd.read_excel(DATA_PATH + fname)\n",
    "    fname = fname.rstrip('.xlsx')\n",
    "    columns = ['Year']\n",
    "    for c in range(len(CATEGORIES)):\n",
    "        cat = CATEGORIES[c]\n",
    "        if cat == 'Two or More' and fname in noTwoOrMore:\n",
    "            continue\n",
    "        columns += [\n",
    "            '% ' + cat,\n",
    "            cat,\n",
    "            'Total'\n",
    "        ]\n",
    "        if c < :\n",
    "            columns[-1] = 'Total ' + str(c)\n",
    "    df.columns = columns\n",
    "    df.drop(columns=[c for c in columns if 'Total ' in c], inplace=True)\n",
    "    df.fillna(0, inplace=True)\n",
    "    df.name = fname\n",
    "    return df\n",
    "\n",
    "def writeRaceEthnicityData():\n",
    "    writer = pd.ExcelWriter('../data/race-ethnicity.xlsx', engine='xlsxwriter')\n",
    "    fnames = [f for f in sorted(os.listdir(DATA_PATH)) if fileProg.match(f)]\n",
    "    for fname in fnames:\n",
    "        df = getRaceEthnicityData(fname)\n",
    "        df.to_excel(writer, sheet_name=df.name, startrow=0, startcol=0)\n",
    "    writer.save()\n",
    "    \n",
    "writeRaceEthnicityData()"
   ]
  },
  {
   "cell_type": "code",
   "execution_count": 74,
   "metadata": {},
   "outputs": [
    {
     "data": {
      "text/plain": [
       "True"
      ]
     },
     "execution_count": 74,
     "metadata": {},
     "output_type": "execute_result"
    }
   ],
   "source": [
    "fname = 'HUM-NE.xlsx'\n",
    "df = pd.read_excel(DATA_PATH + fname)\n",
    "fname = fname.rstrip('.xlsx')\n",
    "columns = ['Year']\n",
    "df.fillna(0, inplace=True)\n",
    "for c in range(len(CATEGORIES)):\n",
    "    cat = CATEGORIES[c]\n",
    "    if cat == 'Two or More' and fname in noTwoOrMore:\n",
    "        continue\n",
    "    columns += [\n",
    "        '% ' + cat,\n",
    "        cat,\n",
    "        'Total ' + str(c)\n",
    "    ]\n",
    "df.columns = columns\n",
    "\n",
    "\n",
    "\n",
    "# We filled NaN's with 0's\n",
    "for t in range((len(columns) - 1) // 3):\n",
    "    col = df['Total ' + str(t)]\n",
    "    if 0 not in list(col):\n",
    "        \n",
    "        for v in range((len(columns) - 1) // 3):\n",
    "            if v == t:\n",
    "                \n",
    "        break\n",
    "    \n",
    "    \n",
    "0 in list(df['Total 0'])"
   ]
  }
 ],
 "metadata": {
  "kernelspec": {
   "display_name": "Python 3",
   "language": "python",
   "name": "python3"
  },
  "language_info": {
   "codemirror_mode": {
    "name": "ipython",
    "version": 3
   },
   "file_extension": ".py",
   "mimetype": "text/x-python",
   "name": "python",
   "nbconvert_exporter": "python",
   "pygments_lexer": "ipython3",
   "version": "3.7.0"
  }
 },
 "nbformat": 4,
 "nbformat_minor": 2
}
