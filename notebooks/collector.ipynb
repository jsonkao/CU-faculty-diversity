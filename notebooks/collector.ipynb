{
 "cells": [
  {
   "cell_type": "markdown",
   "metadata": {},
   "source": [
    "# Data Collector\n",
    "\n",
    "This notebook organizes and aggregates data about faculty diversity in gender."
   ]
  },
  {
   "cell_type": "code",
   "execution_count": 38,
   "metadata": {},
   "outputs": [],
   "source": [
    "import os\n",
    "import pandas as pd"
   ]
  },
  {
   "cell_type": "markdown",
   "metadata": {},
   "source": [
    "The following dictionary maps my custom filename convention to metadata."
   ]
  },
  {
   "cell_type": "code",
   "execution_count": 118,
   "metadata": {},
   "outputs": [],
   "source": [
    "META = {\n",
    "    'hum': 'HUM', # Humanities\n",
    "    'ns': 'NS', # Natural Sciences\n",
    "    'ss': 'SS', # Social Sciences\n",
    "    '1': 'Tenure ineligible',\n",
    "    '2': 'Tenure eligible',\n",
    "    '3': 'Tenured',    \n",
    "}"
   ]
  },
  {
   "cell_type": "code",
   "execution_count": 119,
   "metadata": {},
   "outputs": [],
   "source": [
    "DATA_PATH = '../data/excel/'\n",
    "\n",
    "def getMetadata(fname):\n",
    "    [div, status] = fname.rstrip('.xlsx').split('-')\n",
    "    div = META[div]\n",
    "    status = META[status]\n",
    "    return div, status\n",
    "\n",
    "def getDF(fname):\n",
    "    df = pd.read_excel(DATA_PATH + fname)\n",
    "    div, status = getMetadata(fname)\n",
    "    df.columns = [\n",
    "        'Year', \n",
    "        '% Women', \n",
    "        'Women', \n",
    "        'Total', \n",
    "        '% Men',\n",
    "        'Men', \n",
    "        'Total Duplicate'\n",
    "    ]\n",
    "    df.drop(columns=['Total Duplicate'], inplace=True)\n",
    "    df.set_index('Year', inplace=True)\n",
    "    df.division, df.status = div, status\n",
    "    df.name = '{} - {}'.format(div, status)\n",
    "    return df"
   ]
  },
  {
   "cell_type": "code",
   "execution_count": 121,
   "metadata": {
    "scrolled": false
   },
   "outputs": [],
   "source": [
    "writer = pd.ExcelWriter('../data/gender.xlsx', engine='xlsxwriter')\n",
    "\n",
    "for fname in sorted(os.listdir(DATA_PATH)):\n",
    "    df = getDF(fname)\n",
    "    df.to_excel(writer, sheet_name=df.name, startrow=0, startcol=0)\n",
    "    \n",
    "writer.save()"
   ]
  }
 ],
 "metadata": {
  "kernelspec": {
   "display_name": "Python 3",
   "language": "python",
   "name": "python3"
  },
  "language_info": {
   "codemirror_mode": {
    "name": "ipython",
    "version": 3
   },
   "file_extension": ".py",
   "mimetype": "text/x-python",
   "name": "python",
   "nbconvert_exporter": "python",
   "pygments_lexer": "ipython3",
   "version": "3.7.0"
  }
 },
 "nbformat": 4,
 "nbformat_minor": 2
}
